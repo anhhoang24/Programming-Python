{
 "cells": [
  {
   "cell_type": "markdown",
   "metadata": {},
   "source": [
    "## Problem: Write data columns"
   ]
  },
  {
   "cell_type": "markdown",
   "metadata": {
    "deletable": false,
    "editable": false,
    "nbgrader": {
     "checksum": "d05d147a3033e0275b4f5a94dbdb464d",
     "grade": false,
     "grade_id": "cell-365de9d05711e9d2",
     "locked": true,
     "schema_version": 1,
     "solution": false
    }
   },
   "source": [
    "Using the following data,\n",
    "\n",
    "    data=[5,4,6,1,9,0,3,9,2,7,10,8,4,7,1,2,7,6,5,2,8,2,0,1,1,1,2,10,6,2]\n",
    "\n",
    "write a function `write_columns` to write the three following calculated columns to a user-specified comma-separated file:\n",
    "\n",
    "    data_value, data_value**2, (data_value+data_value**2)/3.\n",
    "    \n",
    "Your written floating-point values should be formatted to the hundreths place. Your function can only accept lists of integers/floats as input."
   ]
  },
  {
   "cell_type": "code",
   "execution_count": 1,
   "metadata": {
    "deletable": false,
    "nbgrader": {
     "checksum": "d6f30f7e69d26a6ecf92f77d739c0dec",
     "grade": false,
     "grade_id": "cell-593379f9053d74c3",
     "locked": false,
     "schema_version": 1,
     "solution": true
    }
   },
   "outputs": [],
   "source": [
    "data=[5,4,6,1,9,0,3,9,2,7,10,8,4,7,1,2,7,6,5,2,8,2,0,1,1,1,2,10,6,2]\n",
    "def write_columns(data,fname):\n",
    "    '''\n",
    "    Given data as a list, write three columns to fname.\n",
    "    :param: data \n",
    "    :type : list\n",
    "    :param: fname\n",
    "    :type: str\n",
    "    '''\n",
    "    assert fname.isspace() == False,\"make sure file name is not an empty space\"\n",
    "    assert isinstance(fname,str),\"confirm name of file must be string\"\n",
    "    assert len(fname) >= 1,\"at least 1 character is required for file name\"\n",
    "    \n",
    "    assert bool(data) == True,\"make sure data is more than 0\"\n",
    "    assert isinstance(data,list),\"input data must be a list\"\n",
    "    assert all(isinstance(item, int) | isinstance(item, float) for item in data),\"input data must be a list of ints or float\"\n",
    "    \n",
    "    f = open(fname,\"w\")\n",
    "    \n",
    "    for i in range(len(data)): \n",
    "        f.write(\"%d, %d, %.2f \\n\" % (data[i], data[i]**2, float((data[i] + data[i]**2))/3 ))\n",
    "\n",
    "    return f.close()\n",
    "    raise NotImplementedError()"
   ]
  },
  {
   "cell_type": "code",
   "execution_count": null,
   "metadata": {
    "deletable": false,
    "editable": false,
    "nbgrader": {
     "checksum": "9bcdbf456adbd12f717971158e8018c6",
     "grade": true,
     "grade_id": "cell-49db5fa9dc33a4df",
     "locked": true,
     "points": 10,
     "schema_version": 1,
     "solution": false
    }
   },
   "outputs": [],
   "source": []
  },
  {
   "cell_type": "code",
   "execution_count": null,
   "metadata": {
    "deletable": false,
    "editable": false,
    "nbgrader": {
     "checksum": "9b04b9d768c403dbc168bc4a92aad1d8",
     "grade": true,
     "grade_id": "cell-301ff1c743b52729",
     "locked": true,
     "points": 5,
     "schema_version": 1,
     "solution": false
    }
   },
   "outputs": [],
   "source": []
  },
  {
   "cell_type": "markdown",
   "metadata": {
    "deletable": false,
    "editable": false,
    "nbgrader": {
     "checksum": "6eb6a30fb86505379043bcfecffe3f2c",
     "grade": false,
     "grade_id": "cell-a6cc74a74c9f30e5",
     "locked": true,
     "schema_version": 1,
     "solution": false
    }
   },
   "source": [
    "## Problem: Text Processing"
   ]
  },
  {
   "cell_type": "markdown",
   "metadata": {
    "deletable": false,
    "editable": false,
    "nbgrader": {
     "checksum": "028cad04c9cef42c4c6c56aa5c9ab9e9",
     "grade": false,
     "grade_id": "cell-591afca08d94fed5",
     "locked": true,
     "schema_version": 1,
     "solution": false
    }
   },
   "source": [
    "Download this [corpus of 10,000 common English words](https://storage.googleapis.com/class-notes-181217.appspot.com/google-10000-english-no-swears.txt) and write the indicated functions that answer the following questions:\n",
    "\n",
    "- What is the longest word?\n",
    "- What is the longest word that starts with a particular character (e.g., `s`)\n",
    "- What is the most common starting letter?\n",
    "- What is the most common ending letter?\n",
    "\n",
    "Your functions should only take list of words as input."
   ]
  },
  {
   "cell_type": "code",
   "execution_count": 2,
   "metadata": {
    "deletable": false,
    "nbgrader": {
     "checksum": "ee2a0de55805aebd66fe1c9cca0a1246",
     "grade": false,
     "grade_id": "cell-7dfc64532f36ec92",
     "locked": false,
     "schema_version": 1,
     "solution": true
    }
   },
   "outputs": [],
   "source": [
    "# you can use this bit of code to download the words from the corpus\n",
    "from urllib.request import urlopen\n",
    "\n",
    "u='https://storage.googleapis.com/class-notes-181217.appspot.com/google-10000-english-no-swears.txt'\n",
    "response = urlopen(u)\n",
    "words = [i.strip().decode('utf8') for i in response.readlines()]\n",
    "\n",
    "# write a function to compute the longest word\n",
    "def get_longest_word(words):\n",
    "    \"\"\" used zip to link key: word - value: len(word)\n",
    "        then use max function to find the word with longest length\n",
    "    \"\"\"\n",
    "    assert bool(words) == True, \"make sure input words is not empty\"\n",
    "    assert isinstance(words,list), \"input words must be type list\"\n",
    "    assert all(isinstance(item,str)for item in words),\"inout words must be a list of string\"\n",
    "    \n",
    "    d=(dict(zip(words,[len(i) for i in words])))\n",
    "    return max([(i,j) for i,j in d.items()], key = lambda i:i[1])\n",
    "\n",
    "    \n",
    "    raise NotImplementedError()\n",
    "    \n",
    "def get_longest_words_startswith(words,starts):\n",
    "    \"\"\"find the longest word starting with a letter\n",
    "    convert first letter to lower \n",
    "    using loop cho check\n",
    "    \"\"\"\n",
    "    assert bool(words) == True,\"words cannot be empty\"\n",
    "    assert isinstance(words,list),\"words type must be type list\"\n",
    "    assert all(isinstance(item, str) for item in words),\"words must be a list of string\"\n",
    "   \n",
    "    assert isinstance(starts,str),\"ensure starting letter type string\"\n",
    "    assert starts.isspace() == False,\"ensure it not an empty string\"\n",
    "    assert len(starts) == 1,\"string have to be a single letter\"\n",
    "    starts = starts.lower() #convert upper to lower letter\n",
    "    word= []\n",
    "    longest_word= \" \"\n",
    "    for i in words:\n",
    "        if i [0] == starts:\n",
    "            word.append(i)\n",
    "            word.sort()\n",
    "            \n",
    "    for i in word:\n",
    "        if len(i)>= len(longest_word):\n",
    "            longest_word = i\n",
    "    \n",
    "    return longest_word\n",
    "          \n",
    "    raise NotImplementedError()\n",
    "\n",
    "def get_most_common_start(words):\n",
    "    \"\"\"find the most common start letter\n",
    "    using loop to loop through words list and increase by one if see a match \n",
    "    else move to next letter\n",
    "    \"\"\"\n",
    "    assert bool(words) == True,\"words cannot be empty\"\n",
    "    assert isinstance(words,list),\"words type must be type list\"\n",
    "    assert all(isinstance(item, str) for item in words),\"words must be a list of string\"\n",
    "    \n",
    "    common_letter = { }\n",
    "    \n",
    "    for  i in words:\n",
    "        if i[0] not in common_letter.keys():\n",
    "            common_letter[i[0]]=1\n",
    "            \n",
    "        else:\n",
    "            common_letter[i[0]]+=1\n",
    "    return max(common_letter,key= common_letter.get)\n",
    "    raise NotImplementedError()\n",
    "\n",
    "def get_most_common_end(words):\n",
    "    \"\"\"same as above but using -1 to find the last letter\n",
    "    \"\"\"\n",
    "    assert bool(words) == True,\"words cannot be empty\"\n",
    "    assert isinstance(words,list),\"words must be a list\"\n",
    "    assert all(isinstance(item, str) for item in words),\"words must be a list of string\"    \n",
    "    letter_freq = { }\n",
    "    for i in words:  \n",
    "        if i[len(i) - 1] not in letter_freq.keys():\n",
    "            letter_freq[i[len(i) - 1]] = 1\n",
    "        else:\n",
    "            letter_freq[i[len(i) - 1]] +=1\n",
    "    return max(letter_freq, key=letter_freq.get)\n",
    "    raise NotImplementedError()"
   ]
  },
  {
   "cell_type": "code",
   "execution_count": null,
   "metadata": {
    "deletable": false,
    "editable": false,
    "nbgrader": {
     "checksum": "5b7758127c1a9cc790ba56975395b570",
     "grade": true,
     "grade_id": "cell-8242aad87a017b90",
     "locked": true,
     "points": 10,
     "schema_version": 1,
     "solution": false
    }
   },
   "outputs": [],
   "source": []
  },
  {
   "cell_type": "code",
   "execution_count": 3,
   "metadata": {
    "deletable": false,
    "editable": false,
    "nbgrader": {
     "checksum": "55a38eee331c81f7b845cec8a412bdf0",
     "grade": true,
     "grade_id": "cell-ed0b5525a33e0248",
     "locked": true,
     "points": 10,
     "schema_version": 1,
     "solution": false
    }
   },
   "outputs": [],
   "source": [
    "### BEGIN  TESTS\n",
    "assert get_longest_words_startswith(words,'s')=='sustainability'\n",
    "### END  TESTS"
   ]
  },
  {
   "cell_type": "code",
   "execution_count": null,
   "metadata": {
    "deletable": false,
    "editable": false,
    "nbgrader": {
     "checksum": "79cb635ebe2cab0a057bfeda2376d8e9",
     "grade": true,
     "grade_id": "cell-194557f7952da810",
     "locked": true,
     "points": 10,
     "schema_version": 1,
     "solution": false
    }
   },
   "outputs": [],
   "source": []
  },
  {
   "cell_type": "code",
   "execution_count": 4,
   "metadata": {
    "deletable": false,
    "editable": false,
    "nbgrader": {
     "checksum": "9330c9a1df3c4ad77c79777aa188b28d",
     "grade": true,
     "grade_id": "cell-7d5fcc55ebc4e779",
     "locked": true,
     "points": 10,
     "schema_version": 1,
     "solution": false
    }
   },
   "outputs": [],
   "source": [
    "### BEGIN  TESTS\n",
    "assert get_most_common_end(words)=='s'\n",
    "### END  TESTS"
   ]
  },
  {
   "cell_type": "code",
   "execution_count": null,
   "metadata": {
    "deletable": false,
    "editable": false,
    "nbgrader": {
     "checksum": "789cc770d83393a170898544f9ab09d1",
     "grade": true,
     "grade_id": "cell-b2811acdfbfb77ec",
     "locked": true,
     "points": 2,
     "schema_version": 1,
     "solution": false
    }
   },
   "outputs": [],
   "source": []
  },
  {
   "cell_type": "code",
   "execution_count": null,
   "metadata": {
    "deletable": false,
    "editable": false,
    "nbgrader": {
     "checksum": "1e4d5865948d83be32eea756d94c7e76",
     "grade": true,
     "grade_id": "cell-d44527a2181a8bdd",
     "locked": true,
     "points": 2,
     "schema_version": 1,
     "solution": false
    }
   },
   "outputs": [],
   "source": []
  },
  {
   "cell_type": "code",
   "execution_count": null,
   "metadata": {
    "deletable": false,
    "editable": false,
    "nbgrader": {
     "checksum": "5c0646e22d9262ab4ef89510e473eb28",
     "grade": true,
     "grade_id": "cell-3efe72c6ddb2be1b",
     "locked": true,
     "points": 2,
     "schema_version": 1,
     "solution": false
    }
   },
   "outputs": [],
   "source": []
  },
  {
   "cell_type": "code",
   "execution_count": null,
   "metadata": {
    "deletable": false,
    "editable": false,
    "nbgrader": {
     "checksum": "716ba05cc2a721bd1c8754c47788e7c4",
     "grade": true,
     "grade_id": "cell-0889549ebf83e941",
     "locked": true,
     "points": 2,
     "schema_version": 1,
     "solution": false
    }
   },
   "outputs": [],
   "source": []
  },
  {
   "cell_type": "code",
   "execution_count": 5,
   "metadata": {
    "deletable": false,
    "editable": false,
    "nbgrader": {
     "checksum": "30d234b4cd9e1fc1a3def7d6068ade51",
     "grade": true,
     "grade_id": "cell-3967bc844b0c7510",
     "locked": true,
     "points": 4,
     "schema_version": 1,
     "solution": false
    }
   },
   "outputs": [],
   "source": [
    "assert len(get_longest_word.__doc__)>1\n",
    "assert len(get_most_common_start.__doc__)>1\n",
    "assert len(get_most_common_end.__doc__)>1\n",
    "assert len(get_longest_words_startswith.__doc__)>1"
   ]
  },
  {
   "cell_type": "markdown",
   "metadata": {
    "deletable": false,
    "editable": false,
    "nbgrader": {
     "checksum": "5335c2d82cb7d2c72e6994de09f19e6f",
     "grade": false,
     "grade_id": "cell-19105a2c00694fc0",
     "locked": true,
     "schema_version": 1,
     "solution": false
    }
   },
   "source": [
    "## Problem: Write chunks of five"
   ]
  },
  {
   "cell_type": "markdown",
   "metadata": {
    "deletable": false,
    "editable": false,
    "nbgrader": {
     "checksum": "2a2a793c80980b320b8f8f9878f6fb49",
     "grade": false,
     "grade_id": "cell-5a5252bab3974bd7",
     "locked": true,
     "schema_version": 1,
     "solution": false
    }
   },
   "source": [
    "Using the same [corpus of 10,000 common English words](https://storage.googleapis.com/class-notes-181217.appspot.com/google-10000-english-no-swears.txt) as before,\n",
    "create a new file that consists of each\n",
    "consecutive non-overlapping sequence of five lines merged into one line. Here\n",
    "are the first 10 lines:\n",
    "\n",
    "    the of and to a\n",
    "    in for is on that\n",
    "    by this with i you\n",
    "    it not or be are\n",
    "    from at as your all\n",
    "    have new more an was\n",
    "    we will home can us\n",
    "    about if page my has\n",
    "    search free but our one\n",
    "    other do no information time\n",
    "\n",
    "If the last group has less than five at the end, just write out the last group."
   ]
  },
  {
   "cell_type": "code",
   "execution_count": 6,
   "metadata": {
    "deletable": false,
    "nbgrader": {
     "checksum": "d144cad1b56356be1ade1a503a111083",
     "grade": false,
     "grade_id": "cell-fec1f63e0af31fa8",
     "locked": false,
     "schema_version": 1,
     "solution": true
    }
   },
   "outputs": [],
   "source": [
    "def write_chunks_of_five(words,fname):\n",
    "    '''\n",
    "    :param: words\n",
    "    :type: list\n",
    "    :param: fname\n",
    "    :type: str\n",
    "    '''\n",
    "    assert isinstance(fname,str),\"file name must be of type string\"\n",
    "    assert fname.isspace() == False,\"string cannot be empty\"\n",
    "    assert len(fname) >= 1,\"string must have a least one char\"\n",
    "    \n",
    "    assert isinstance(words,list),\"words must be a list\"\n",
    "    assert bool(words) == True,\"words cannot be empty\"\n",
    "    assert all(isinstance(item, str) for item in words),\"words must be a list of string\"\n",
    "\n",
    "    counter = 0\n",
    "\n",
    "    f = open(fname,\"w\")\n",
    "\n",
    "    for item in words:\n",
    "        if counter == 5:\n",
    "            f.write(\"\\n\")\n",
    "            counter = 0\n",
    "\n",
    "        f.write(\"%s \" % item)\n",
    "        counter += 1 \n",
    "\n",
    "    return f.close()\n",
    "\n",
    "    raise NotImplementedError()"
   ]
  },
  {
   "cell_type": "code",
   "execution_count": null,
   "metadata": {
    "deletable": false,
    "editable": false,
    "nbgrader": {
     "checksum": "ccd089742a4476688b5f2c4adf577bed",
     "grade": true,
     "grade_id": "cell-83c400b7763b0123",
     "locked": true,
     "points": 33,
     "schema_version": 1,
     "solution": false
    }
   },
   "outputs": [],
   "source": []
  },
  {
   "cell_type": "code",
   "execution_count": null,
   "metadata": {},
   "outputs": [],
   "source": []
  }
 ],
 "metadata": {
  "kernelspec": {
   "display_name": "Python 3",
   "language": "python",
   "name": "python3"
  },
  "language_info": {
   "codemirror_mode": {
    "name": "ipython",
    "version": 3
   },
   "file_extension": ".py",
   "mimetype": "text/x-python",
   "name": "python",
   "nbconvert_exporter": "python",
   "pygments_lexer": "ipython3",
   "version": "3.6.3"
  }
 },
 "nbformat": 4,
 "nbformat_minor": 2
}

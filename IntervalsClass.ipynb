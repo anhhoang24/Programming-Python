{
 "cells": [
  {
   "cell_type": "markdown",
   "metadata": {
    "deletable": false,
    "editable": false,
    "nbgrader": {
     "checksum": "2f8154d3a8e5b6787fd080a92849d6dc",
     "grade": false,
     "grade_id": "cell-51b6769d195c4fa8",
     "locked": true,
     "schema_version": 1,
     "solution": false
    }
   },
   "source": [
    "## Problem: Interval arithmetic"
   ]
  },
  {
   "cell_type": "markdown",
   "metadata": {
    "deletable": false,
    "editable": false,
    "nbgrader": {
     "checksum": "9e22ebc55c1d9741393a2d54caa0d93f",
     "grade": false,
     "grade_id": "cell-03dd1d9ed4418280",
     "locked": true,
     "schema_version": 1,
     "solution": false
    }
   },
   "source": [
    "Using Python object oriented programming, write a class called `Interval` that represents a one-dimensional open interval on the real line. This main purpose of this class is to simplify overlapping continuous intervals. The code below should get you started but there are a lot of missing pieces that you will have to figure out.\n",
    "\n",
    "The API should take a pair of integers as input and respond to the `+` operator such that\n",
    "\n",
    "    >>> a = Interval(1,3)\n",
    "    >>> b = Interval(2,4)\n",
    "    >>> c = Interval(5,10)\n",
    "    >>> a + b \n",
    "    Interval(1,4)\n",
    "    >>> b+c\n",
    "    [ Interval(2,4), Interval(5,10)]\n",
    "    \n",
    "* Note that in the case of non-overlapping intervals, the output should be a list of constituent `Intervals`. Keep in mind that these are **open** intervals. Specifically,\n",
    "\n",
    "      >>> Interval(2,3)+Interval(1,2)\n",
    "      [Interval(2,3), Interval(1,2)]\n",
    "    \n",
    "* Note that these do not produce a single interval because each interval is open (not closed). The interval endpoints can be negative also (e.g., `Interval(-10,-3)` is valid). The output **does not** have to be sorted.\n",
    "\n",
    "* Note that you have to fill in all the functions listed (i.e., remove the `pass` and fill in your code).\n",
    "* It's up to you to decide what each of the dunder functions means for your object. For example, you have to decide what the ordering operations for your object will be in order to accomplish the required output. If you do this right, you will have a very general solution to this problem.\n",
    "\n",
    "**This is where good object-oriented design pays off**. "
   ]
  },
  {
   "cell_type": "code",
   "execution_count": 1,
   "metadata": {
    "deletable": false,
    "nbgrader": {
     "checksum": "49fb18b366036b2fdb4025aebb4b1db0",
     "grade": false,
     "grade_id": "cell-fe4fdb821048ea08",
     "locked": false,
     "schema_version": 1,
     "solution": true
    }
   },
   "outputs": [],
   "source": [
    "# fill out all the templated methods shown below\n",
    "class Interval(object):\n",
    "    def __init__(self,a,b):\n",
    "        \"\"\"\n",
    "        :a: integer\n",
    "        :b: integer\n",
    "        \"\"\"\n",
    "        assert a<b\n",
    "        assert isinstance(a,int)\n",
    "        assert isinstance(b,int)\n",
    "        self.a = a\n",
    "        self.b = b\n",
    "    def __repr__(self):\n",
    "        return (\"Interval: (%d,%d)\"%(self.a,self.b))    \n",
    "    def __eq__(self,other):\n",
    "        if (self.a == other.a and self.b==other.b):\n",
    "            return self            \n",
    "    def __lt__(self,other):\n",
    "        if (self.a < other.a and self.b<other.b):\n",
    "            return Interval(self.a,other.b)\n",
    "        elif(self.a < other.a and self.b>other.b):\n",
    "            return Interval(self.a,self.b)\n",
    "    def __gt__(self,other):\n",
    "        if (self.a > other.a and self.b>other.b):\n",
    "            return Interval(other.a,self.b)\n",
    "        elif(self.a > other.a and self.b<other.b):\n",
    "            return Interval(other.a,other.b)\n",
    "    def __ge__(self,other):\n",
    "        if (self.a >= other.a and self.a>=other.b) or (other.a>=self.b and other.b>= self.b):\n",
    "            final=[]\n",
    "            final.append(self)\n",
    "            final.append(other)\n",
    "            return (final)\n",
    "    def __le__(self,other):\n",
    "        if (self.a <= other.a and self.b<=other.a) or (other.b<=self.a and other.b<= self.b):\n",
    "            final=[]\n",
    "            final.append(self)\n",
    "            final.append(other)\n",
    "            return (final)   \n",
    "    def __add__(self,other):\n",
    "        assert isinstance(self, Interval)\n",
    "        assert isinstance(other ,Interval) \n",
    "        a1 = self.a\n",
    "        b1 = self.b\n",
    "        a2 = other.a\n",
    "        b2 = other.b        \n",
    "        # interval 1 and 2 don't intersect\n",
    "        if ((a1 <= a2 and b1 <= a2) or (b2 <= a1 and b2 <= b1)):\n",
    "            return Interval.__le__(self,other)       \n",
    "        # interval 1 and 2 don't intersect        \n",
    "        elif ((a2 <= a1 and b2 <= a1) or (b1 <= a2 and b1 <= b2)):            \n",
    "            return Interval.__ge__(self,other)      \n",
    "        # 1a < 2a and 2b < 1b\n",
    "        elif (a1 <= a2 and b2 <= b1):\n",
    "            return Interval(a1,b1)\n",
    "        # 1a < 2a and 1b < 2b\n",
    "        elif (a1 <= a2 and b1 <= b2):\n",
    "            return Interval(a1,b2)\n",
    "        # 2a < 1a and 2b < 1b\n",
    "        elif (a2 <= a1 and b2 <= b1):\n",
    "            return Interval(a2,b1)\n",
    "        # 2a < 1a and 1b < 2b\n",
    "        else:            \n",
    "            return Interval(a2,b2)\n",
    "        \n",
    "        raise NotImplementedError() "
   ]
  },
  {
   "cell_type": "code",
   "execution_count": null,
   "metadata": {
    "deletable": false,
    "editable": false,
    "nbgrader": {
     "checksum": "79c224e607ef9b02275777e2bbc1a143",
     "grade": true,
     "grade_id": "cell-ce70b949c97e2b3e",
     "locked": true,
     "points": 40,
     "schema_version": 1,
     "solution": false
    }
   },
   "outputs": [],
   "source": []
  },
  {
   "cell_type": "code",
   "execution_count": null,
   "metadata": {},
   "outputs": [],
   "source": []
  }
 ],
 "metadata": {
  "kernelspec": {
   "display_name": "Python 3",
   "language": "python",
   "name": "python3"
  },
  "language_info": {
   "codemirror_mode": {
    "name": "ipython",
    "version": 3
   },
   "file_extension": ".py",
   "mimetype": "text/x-python",
   "name": "python",
   "nbconvert_exporter": "python",
   "pygments_lexer": "ipython3",
   "version": "3.6.3"
  }
 },
 "nbformat": 4,
 "nbformat_minor": 2
}

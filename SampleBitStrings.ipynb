{
 "cells": [
  {
   "cell_type": "markdown",
   "metadata": {},
   "source": [
    "## Problem: Random samples for a finite  population of bitstrings\n",
    "\n",
    "Given a number of bits, write the `get_sample` function to return a list `n` of random samples from a finite probability mass function defined by a dictionary with keys defined by a specified number of bits. For example, given `3` bits, we have the following dictionary that defines the probability of each of the keys,\n",
    "\n",
    "    ['000', '001', '010', '011', '100', '101', '110', '111']\n",
    "\n",
    "The values of the dictionary correspond of the probability of drawing any one of these. For example, if all of these were equally likely, then here is the corresponding dictionary `p`,\n",
    "\n",
    "    p={'000': 0.125,\n",
    "     '001': 0.125,\n",
    "     '010': 0.125,\n",
    "     '011': 0.125,\n",
    "     '100': 0.125,\n",
    "     '101': 0.125,\n",
    "     '110': 0.125,\n",
    "     '111': 0.125}\n",
    " \n",
    " \n",
    " Your `get_sample` function should return something like the following,\n",
    " \n",
    "     >>> get_sample(nbits=3,prob=p,n=4)\n",
    "     ['101', '000', '001', '100']\n",
    " \n",
    "**Hint**: Validate your inputs thoroughly. "
   ]
  },
  {
   "cell_type": "code",
   "execution_count": 1,
   "metadata": {
    "deletable": false,
    "nbgrader": {
     "checksum": "1ec5e430f4ca311b43466be9680d2bfc",
     "grade": false,
     "grade_id": "cell-121c40bb8ea31ba8",
     "locked": false,
     "schema_version": 1,
     "solution": true
    }
   },
   "outputs": [],
   "source": [
    "def get_sample(nbits=3,prob=None,n=1):\n",
    "    \"\"\"define a funtion that output list of n binary code\n",
    "    \"\"\"\n",
    "    \n",
    "    s=0\n",
    "    for i in prob:\n",
    "        sum_all_prob+=(prob[i])\n",
    "    assert sum_all_prob==1 #ensure that all prob add to 1\n",
    "    assert isinstance(nbits,int) # make sure input for nbit is Int type\n",
    "    assert isinstance(n,int) # make sure input for n is Int type\n",
    "    assert isinstance(prob,dict)# make sure input for prob is list type\n",
    "    assert prob!=None # make sure input for nbit is not No\n",
    "    import random\n",
    "    x= ['{:0{}b}'.format(i,nbits) for i in range(2**nbits)]\n",
    "    y=[] #probability\n",
    "    k=[] #list of random number\n",
    "    final=[]\n",
    "    \n",
    "    p=list(zip(x,y))\n",
    "    for i in range(n):\n",
    "        k.append(random.randint(0,len(x)-1))  #generate unique random number \n",
    "    for i in k:\n",
    "        final.append(x[i])\n",
    "    return(final)\n",
    "    raise NotImplementedError()"
   ]
  },
  {
   "cell_type": "code",
   "execution_count": null,
   "metadata": {
    "deletable": false,
    "editable": false,
    "nbgrader": {
     "checksum": "85b70cd278598174aa79342eafad9ae9",
     "grade": true,
     "grade_id": "cell-ae8068b57cee1249",
     "locked": true,
     "points": 20,
     "schema_version": 1,
     "solution": false
    }
   },
   "outputs": [],
   "source": []
  },
  {
   "cell_type": "code",
   "execution_count": null,
   "metadata": {
    "deletable": false,
    "editable": false,
    "nbgrader": {
     "checksum": "f0892f142fc0c291f3cd4f8f3303f32e",
     "grade": true,
     "grade_id": "cell-1d6056c5502e6e7d",
     "locked": true,
     "points": 10,
     "schema_version": 1,
     "solution": false
    }
   },
   "outputs": [],
   "source": []
  },
  {
   "cell_type": "markdown",
   "metadata": {},
   "source": [
    "## Map bitstrings \n",
    "\n",
    "Write a function `map_bitstring` that takes a list of bitstrings (i.e., `0101`) and maps each bitstring to `0` if the number of `0`s in the bitstring strictly exceeds the number of `1`s. Otherwise, map that bitstring to `1`. The output of your function is a dictionary of the so-described key-value pairs.\n",
    "\n",
    "Here is an example:\n",
    "\n",
    "    >>> x= ['100', '100', '110', '010', '111', '000', '110', '010', '011', '000']\n",
    "    >>> map_bitstring(x)\n",
    "    {'100': 0, '110': 1, '010': 0, '111': 1, '000': 0, '011': 1}\n"
   ]
  },
  {
   "cell_type": "code",
   "execution_count": 2,
   "metadata": {
    "deletable": false,
    "nbgrader": {
     "checksum": "587331e638df4390dd0c701451280b93",
     "grade": false,
     "grade_id": "cell-4c1147dae8e5c76c",
     "locked": false,
     "schema_version": 1,
     "solution": true
    }
   },
   "outputs": [],
   "source": [
    "def map_bitstring(instrings):\n",
    "    \"\"\" A function that takes a list of bitstrings (i.e., 0101) and maps each bitstring to 0 if the number of 0s\n",
    "    in the bitstring strictly exceeds the number of 1s. Otherwise, map that bitstring to 1. \n",
    "    The output of your function is a dictionary of the so-described key-value pairs.\n",
    "    \"\"\"\n",
    "    \n",
    "    assert isinstance(instrings,list)\n",
    "    assert all(c in '01' for c in instrings) is True\n",
    "    z=[] #list to hold binary values\n",
    "    for number in x:\n",
    "        count0=0\n",
    "        count1=0\n",
    "        for i in number: \n",
    "            if (int(i)==0):\n",
    "                count0 +=1\n",
    "            else:\n",
    "                count1 +=1\n",
    "        if(count0>count1):\n",
    "            z.append(0)\n",
    "        else:\n",
    "            z.append(1)\n",
    "\n",
    "    return(dict(zip(x,z)))\n",
    "    raise NotImplementedError()"
   ]
  },
  {
   "cell_type": "code",
   "execution_count": null,
   "metadata": {
    "deletable": false,
    "editable": false,
    "nbgrader": {
     "checksum": "9b451b7c76c6a54e80ee897715a113d1",
     "grade": true,
     "grade_id": "cell-c4c575d42fd41018",
     "locked": true,
     "points": 20,
     "schema_version": 1,
     "solution": false
    }
   },
   "outputs": [],
   "source": []
  },
  {
   "cell_type": "code",
   "execution_count": null,
   "metadata": {
    "deletable": false,
    "editable": false,
    "nbgrader": {
     "checksum": "1d34f56a57d003cdd8ea81c55ed940c7",
     "grade": true,
     "grade_id": "cell-308663750996402d",
     "locked": true,
     "points": 10,
     "schema_version": 1,
     "solution": false
    }
   },
   "outputs": [],
   "source": []
  },
  {
   "cell_type": "markdown",
   "metadata": {},
   "source": [
    "## Gather by values \n",
    "\n",
    "Now that you have `get_sample` working, generate `n` samples and tally the number of times an existing key is repeated. Generate a new dictionary with bitstrings as keys and with values as lists that contain the corresponding mapped values from `map_bitstring`. Here is an example for  `n=20`,\n",
    "\n",
    "    >>> x=get_sample(nbits=2,prob={'00':1/4,'01':1/4,'10':1/4,'11':1/4},n=20)\n",
    "    >>> print(x)\n",
    "    ['10', '11', '01', '00', '10', '00', '00', '11', '10', '00', '00', '01', '01', '11', '10', '00', '11', '10', '11', '11']\n",
    "\n",
    "Write a function `gather_values` that can produce the following output from `x`:\n",
    "\n",
    "    {'10': [1, 1, 1, 1, 1],\n",
    "     '11': [1, 1, 1, 1, 1, 1],\n",
    "     '01': [1, 1, 1],\n",
    "     '00': [0, 0, 0, 0, 0, 0]}"
   ]
  },
  {
   "cell_type": "code",
   "execution_count": 3,
   "metadata": {
    "deletable": false,
    "nbgrader": {
     "checksum": "fea313b15b4357a54417db363779c65c",
     "grade": false,
     "grade_id": "cell-f3fba48fbe2bd34e",
     "locked": false,
     "schema_version": 1,
     "solution": true
    }
   },
   "outputs": [],
   "source": [
    "def gather_values(seq):\n",
    "    \"\"\"\n",
    "    A function gather_values that can produce the following output from seq:\n",
    "\n",
    "    {'10': [1, 1, 1, 1, 1],\n",
    "     '11': [1, 1, 1, 1, 1, 1],\n",
    "     '01': [1, 1, 1],\n",
    "     '00': [0, 0, 0, 0, 0, 0]}\n",
    "    \"\"\"\n",
    "    assert isinstance(seq,list)\n",
    "    maps=(map_bitstring(seq))\n",
    "    my_dict = {i:seq.count(i) for i in seq}\n",
    "\n",
    "    for u in my_dict:\n",
    "        t=[]\n",
    "        for y in range (my_dict[u]):\n",
    "            t.append(maps[u])        \n",
    "        my_dict[u]=t\n",
    "    return my_dict\n",
    "    raise NotImplementedError()"
   ]
  },
  {
   "cell_type": "code",
   "execution_count": null,
   "metadata": {
    "deletable": false,
    "editable": false,
    "nbgrader": {
     "checksum": "bc61a5ce7d453b3e54f15d3f5e08314c",
     "grade": true,
     "grade_id": "cell-a9088c90c9f3ad88",
     "locked": true,
     "points": 20,
     "schema_version": 1,
     "solution": false
    }
   },
   "outputs": [],
   "source": []
  },
  {
   "cell_type": "markdown",
   "metadata": {},
   "source": [
    "## Threshold sample counts\n",
    "\n",
    "From `gather_values`, we can group the results of the random samples. Now, we want to threshold those values based upon their frequency and value. Given `threshold=2`, we want to keep only those bitstrings with the two highest frequency counts of the `1` value. For example, as before we have,\n",
    "\n",
    "    x=['10', '11', '01', '00', '10', '00', '00', '11', '10', '00', '00', '01', '01', '11', '10', '00', '11', '10', '11', '11']\n",
    "    \n",
    "according to our last result, we had \n",
    "\n",
    "    {'10': [1, 1, 1, 1, 1],\n",
    "     '11': [1, 1, 1, 1, 1, 1],\n",
    "     '01': [1, 1, 1],\n",
    "     '00': [0, 0, 0, 0, 0, 0]}\n",
    "\n",
    "But because the `threshold=2`, we only want to keep the bitstrings with the two most frequent `1`s and set all of the rest to `0`. In this case, this is `10` and `11` with the following output:\n",
    "\n",
    "    {'10': 1,\n",
    "     '11': 1,\n",
    "     '01': 0,\n",
    "     '00': 0}\n",
    "    \n",
    "Note that `01` corresponding value was set to `0` because it did not have the top two most frequent values of `1`. If there is a tie, then use the smallest value the tied bitstrings to pick the winner. Here is a more detailed example:\n",
    "\n",
    "    x= ['1111', '0110', '1001', '0011', '0111', '0100', '0111', '1100', '0011', '0010', '0010', '1010', '1010', '1100', '0110', '0101', '0110', '1111', '1001', '0110', '0010', '1101', '0101', '0010', '0100', '0010', '0000', '0000', '0011', '0110', '0101', '1010', '1011', '1101', '1100', '0111', '1110', '0100', '0110', '1101', '0001', '1110', '0010', '0001', '1010', '1010', '0011', '1000', '0010', '0000', '1010', '1101', '1111', '1000', '1000', '0010', '1010', '0101', '0101', '1101', '0110', '1001', '1100', '1100', '1000', '1010', '0011', '0101', '0101', '0011', '0001', '1010', '0011', '0011', '1101', '1010', '0101', '0011', '1011', '0101', '0000', '1111', '1001', '0101', '1100', '0011', '1111', '1101', '0001', '1111', '1110', '1111', '0001', '0010', '0110', '0100', '0101', '1100', '1110', '1001']\n",
    "\n",
    "With corresponding output from `threshold_values`,\n",
    "\n",
    "    >>> threshold_values(seq,3)\n",
    "    {'0000': 0, '0001': 0, '0010': 0, '0011': 1, '0100': 0, '0101': 1, '0110': 0, '0111': 0, '1000': 0, '1001': 0, '1010': 1, '1011': 0, '1100': 0, '1101': 0, '1110': 0, '1111': 0}\n"
   ]
  },
  {
   "cell_type": "code",
   "execution_count": 5,
   "metadata": {
    "deletable": false,
    "nbgrader": {
     "checksum": "6d021206024ca63bd57700868700983e",
     "grade": false,
     "grade_id": "cell-38a17a75141a6716",
     "locked": false,
     "schema_version": 1,
     "solution": true
    }
   },
   "outputs": [],
   "source": [
    "def threshold_values(seq,threshold=1):\n",
    "    \"\"\"Generate dictionary to keep only those bitstrings with the highest frequency counts of the 1\"\"\"\n",
    "    assert isinstance(seq,list)\n",
    "    assert isinstance(threshold,int)\n",
    "    assert threshold>0   \n",
    "    maps=(map_bitstring(seq))\n",
    "    z=(gather_values(seq))\n",
    "    ori_z=(gather_values(seq))   \n",
    "    threshold_original=threshold\n",
    "    for i in maps:\n",
    "        if (maps[i] == 1):\n",
    "            z[i] = sum(z[i])\n",
    "            ori_z[i]=z[i]\n",
    "        else:\n",
    "            z[i]=0\n",
    "            ori_z[i]=0    \n",
    "    def find_max(seq,count):\n",
    "            t=[]\n",
    "            for i in seq:\n",
    "                t.append(seq[i])\n",
    "            if(count==threshold_original):             \n",
    "                return max(t)\n",
    "            else:\n",
    "                t.remove(max(t))\n",
    "                print(t)             \n",
    "                return max(t)   \n",
    "    maxi=(find_max(z,threshold))\n",
    "    print(maxi)\n",
    "    def fill_z (z,maxi,threshold):\n",
    "        for i in z:\n",
    "            if((z[i]==maxi) and z[i]!=1):\n",
    "                z[i]=1               \n",
    "            else:\n",
    "                z[i]=0\n",
    "            threshold-=1\n",
    "        if(threshold>0):\n",
    "            maxi=(find_max(ori_z,threshold))\n",
    "            fill_z(z,maxi,threshold)\n",
    "        return z\n",
    "    \n",
    "    fill_z(z,maxi,threshold)    \n",
    "    return z  \n",
    "    raise NotImplementedError()"
   ]
  },
  {
   "cell_type": "code",
   "execution_count": null,
   "metadata": {
    "deletable": false,
    "editable": false,
    "nbgrader": {
     "checksum": "df26ef7a8d65712864f2b76489ba01b8",
     "grade": true,
     "grade_id": "cell-0e5cc812d42ae573",
     "locked": true,
     "points": 20,
     "schema_version": 1,
     "solution": false
    }
   },
   "outputs": [],
   "source": []
  },
  {
   "cell_type": "code",
   "execution_count": null,
   "metadata": {},
   "outputs": [],
   "source": []
  }
 ],
 "metadata": {
  "kernelspec": {
   "display_name": "Python 3",
   "language": "python",
   "name": "python3"
  },
  "language_info": {
   "codemirror_mode": {
    "name": "ipython",
    "version": 3
   },
   "file_extension": ".py",
   "mimetype": "text/x-python",
   "name": "python",
   "nbconvert_exporter": "python",
   "pygments_lexer": "ipython3",
   "version": "3.6.3"
  }
 },
 "nbformat": 4,
 "nbformat_minor": 2
}

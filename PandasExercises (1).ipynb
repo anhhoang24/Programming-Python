{
 "cells": [
  {
   "cell_type": "markdown",
   "metadata": {},
   "source": [
    "## Using Internet Movie Database"
   ]
  },
  {
   "cell_type": "markdown",
   "metadata": {
    "deletable": false,
    "editable": false,
    "nbgrader": {
     "checksum": "7d1afae99b2173df37f45ac7f8a2b1a4",
     "grade": false,
     "grade_id": "cell-750cb73f06f67fd5",
     "locked": true,
     "schema_version": 1,
     "solution": false
    }
   },
   "source": [
    "Using the Internet Movie Database file `titles.csv.gz`, using `pandas` find the how many movies were\n",
    "made every year from `1900` to `2016`. The data files are available at the following links:\n",
    "\n",
    "[titles](https://storage.googleapis.com/class-notes-181217.appspot.com/titles.csv.gz)\n",
    "[cast](https://storage.googleapis.com/class-notes-181217.appspot.com/cast.csv.gz)"
   ]
  },
  {
   "cell_type": "code",
   "execution_count": null,
   "metadata": {
    "deletable": false,
    "nbgrader": {
     "checksum": "a24fefcb201a4e32f67abde2d1a6980c",
     "grade": false,
     "grade_id": "cell-0a22d8809d9aab94",
     "locked": false,
     "schema_version": 1,
     "solution": true
    }
   },
   "outputs": [],
   "source": [
    "import pandas as pd\n",
    "\n",
    "file_ip = pd.read_table(\"https://storage.googleapis.com/class-notes-181217.appspot.com/titles.csv.gz\",compression='gzip', delimiter = ',') \n",
    "counter = 0\n",
    "title_year = file_ip['year']\n",
    "for i in range(len(title_year)):\n",
    "    if ( 1900 <= title_year[i] ) and ( title_year[i] <= 2016):\n",
    "        counter +=1\n",
    "\n",
    "answer = counter\n"
   ]
  },
  {
   "cell_type": "code",
   "execution_count": 2,
   "metadata": {
    "deletable": false,
    "editable": false,
    "nbgrader": {
     "checksum": "3f01f7c7c6e271d398ecb8ae4b644723",
     "grade": true,
     "grade_id": "cell-a437770e91bcdfa0",
     "locked": true,
     "points": 10,
     "schema_version": 1,
     "solution": false
    }
   },
   "outputs": [],
   "source": [
    "### BEGIN TESTS\n",
    "assert answer == 209649\n",
    "### END TESTS\n"
   ]
  },
  {
   "cell_type": "markdown",
   "metadata": {
    "deletable": false,
    "editable": false,
    "nbgrader": {
     "checksum": "b8e5fd7710ed123b1a527c21c8b5c0cc",
     "grade": false,
     "grade_id": "cell-ef6d2fbf4a389d96",
     "locked": true,
     "schema_version": 1,
     "solution": false
    }
   },
   "source": [
    "Using the cast IMDB file `cast.csv.gz`, determine how many movies the actor *John Wayne* was in (under that name)."
   ]
  },
  {
   "cell_type": "code",
   "execution_count": 3,
   "metadata": {
    "deletable": false,
    "nbgrader": {
     "checksum": "a812e79904e4a29fa19d860150feaaa0",
     "grade": false,
     "grade_id": "cell-3fd954514f1e2d94",
     "locked": false,
     "schema_version": 1,
     "solution": true
    }
   },
   "outputs": [],
   "source": [
    "\n",
    "import pandas as pd\n",
    "cast = pd.read_table(\"https://storage.googleapis.com/class-notes-181217.appspot.com/cast.csv.gz\",compression='gzip', delimiter = ',')\n",
    "cast_counter = cast[\"name\"].value_counts()\n",
    "answer = cast_counter[\"John Wayne\"]\n"
   ]
  },
  {
   "cell_type": "code",
   "execution_count": 4,
   "metadata": {
    "deletable": false,
    "editable": false,
    "nbgrader": {
     "checksum": "61ec28be43f061b90a8ef7b0952dc8a9",
     "grade": true,
     "grade_id": "cell-799f9c7d314da863",
     "locked": true,
     "points": 10,
     "schema_version": 1,
     "solution": false
    }
   },
   "outputs": [],
   "source": [
    "### BEGIN TESTS\n",
    "assert answer == 179\n",
    "### END TESTS\n"
   ]
  },
  {
   "cell_type": "markdown",
   "metadata": {
    "deletable": false,
    "editable": false,
    "nbgrader": {
     "checksum": "57c4e358928eff0e3bdfb4cb2e7c6a66",
     "grade": false,
     "grade_id": "cell-44f8cb74390e3aaa",
     "locked": true,
     "schema_version": 1,
     "solution": false
    }
   },
   "source": [
    "In how many movies did John Wayne play a character named *John* (not Johnny, Jonny, etc.)? This includes *Captain John* and others like this."
   ]
  },
  {
   "cell_type": "code",
   "execution_count": 5,
   "metadata": {
    "deletable": false,
    "nbgrader": {
     "checksum": "cb060ce8366b6ea92b761032ae5ebe15",
     "grade": false,
     "grade_id": "cell-3904b4d8eeaf5967",
     "locked": false,
     "schema_version": 1,
     "solution": true
    }
   },
   "outputs": [],
   "source": [
    "import pandas as pd \n",
    "cast = pd.read_table(\"https://storage.googleapis.com/class-notes-181217.appspot.com/cast.csv.gz\",compression='gzip', delimiter = ',')\n",
    "cast_character_numbered = cast[\"character\"].value_counts()\n",
    "John_Wayne_df = cast[cast.name == \"John Wayne\"]\n",
    "answer=John_Wayne_df.character.str.contains(r'\\bJohn\\b').sum()\n"
   ]
  },
  {
   "cell_type": "code",
   "execution_count": 6,
   "metadata": {
    "deletable": false,
    "editable": false,
    "nbgrader": {
     "checksum": "315e97b822fb7ccedc06d226b9b35ebc",
     "grade": true,
     "grade_id": "cell-9f214890c9fc7de2",
     "locked": true,
     "points": 10,
     "schema_version": 1,
     "solution": false
    }
   },
   "outputs": [],
   "source": [
    "### BEGIN  TESTS\n",
    "assert answer == 38\n",
    "### END  TESTS\n"
   ]
  },
  {
   "cell_type": "code",
   "execution_count": null,
   "metadata": {},
   "outputs": [],
   "source": []
  },
  {
   "cell_type": "code",
   "execution_count": null,
   "metadata": {},
   "outputs": [],
   "source": []
  }
 ],
 "metadata": {
  "anaconda-cloud": {},
  "kernelspec": {
   "display_name": "Python 3",
   "language": "python",
   "name": "python3"
  },
  "language_info": {
   "codemirror_mode": {
    "name": "ipython",
    "version": 3
   },
   "file_extension": ".py",
   "mimetype": "text/x-python",
   "name": "python",
   "nbconvert_exporter": "python",
   "pygments_lexer": "ipython3",
   "version": "3.6.3"
  }
 },
 "nbformat": 4,
 "nbformat_minor": 2
}

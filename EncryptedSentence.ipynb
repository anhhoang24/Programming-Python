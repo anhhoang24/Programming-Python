{
 "cells": [
  {
   "cell_type": "markdown",
   "metadata": {
    "deletable": false,
    "editable": false,
    "nbgrader": {
     "checksum": "9b54457ddc515b557b7af2e7298e362f",
     "grade": false,
     "grade_id": "cell-9632d8c3f8538442",
     "locked": true,
     "schema_version": 1,
     "solution": false
    }
   },
   "source": [
    "We will implement a very simple encryption scheme that closely resembles the one-time-pad. You have probably seen this method used in movies like [Unknown](http://www.imdb.com/title/tt1401152/?ref_=nm_flmg_act_43). The idea is that you and your counterparty share a book whose words you will use as the raw material for a  codebook. In this case, you need [Metamorphosis, by Franz Kafka](https://storage.googleapis.com/class-notes-181217.appspot.com/pg5200.txt).\n",
    "\n",
    "Your job is to create a codebook of 2-tuples that map to specific words in the given text based on the line and position the words appears in the text. The text is very long so there will be duplicated words. Strip out all of the punctuation and make everything lowercase.\n",
    "\n",
    "For example, the word **let** appears on line `1682` in the text as the fourth word (reading from left-to-right). Similarly,\n",
    "the word **us** appears in the text on line `1760` as the fifth word.\n",
    "\n",
    "Thus, if the message you want to send is the following:\n",
    "\n",
    "    let us not say we met late at the night about the secret\n",
    "    \n",
    "Then, one possible valid sequence for that message is the following:\n",
    "    \n",
    "    [(1682,4),(1760,5),(1650,2),(304,7),(1190,4),(2327,2),(731,4),(988,4),(1091,6),(958,7),(564,10),(1923,9),(849,2)]\n",
    "\n",
    "Your counterparty receives the above sequence of tuples, and, because she has the same text, she is able to look up the line and word numbers of each of the tuples to retrieve the encoded message. Notice that the word **the** appears twice in the above message but is encoded differently each time. This is because re-using codewords (i.e., 2-tuples) destroys the encryption strength. In case of repeated words, you should have a randomized scheme to ensure that no message contains the same 2-tuple, even if the same word appears multiple times in the message. If there is only one occurrence of a word in the text and the message uses that word repeatedly so that each occurrence of the word cannot have a unique 2-tuple, then the message should be rejected (i.e., assert against this).\n",
    "\n",
    "Your assignment is to create an encryption function and the corresponding decryption function to implement this scheme. Note that your downloaded text should have 2362 lines and 25186 words in it.\n",
    "\n"
   ]
  },
  {
   "cell_type": "code",
   "execution_count": 1,
   "metadata": {
    "deletable": false,
    "nbgrader": {
     "checksum": "7966e21acb45e46b055c12e29066c4fd",
     "grade": false,
     "grade_id": "cell-0df5fdd7605d68d1",
     "locked": false,
     "schema_version": 1,
     "solution": true
    }
   },
   "outputs": [],
   "source": [
    "def encrypt_message(message,fname):\n",
    "    '''\n",
    "    Given `message`, which is a lowercase string without any punctuation, and `fname` which is the\n",
    "    name of a text file source for the codebook, generate a sequence of 2-tuples that\n",
    "    represents the `(line number, word number)` of each word in the message. The output is a list\n",
    "    of 2-tuples for the entire message. Repeated words in the message should not have the same 2-tuple. \n",
    "    \n",
    "    :param message: message to encrypt\n",
    "    :type message: str\n",
    "    :param fname: filename for source text\n",
    "    :type fname: str\n",
    "    :returns: list of 2-tuples\n",
    "    '''\n",
    "    def allUnique(x):\n",
    "        seen = set()\n",
    "        return not any(i in seen or seen.add(i) for i in x)\n",
    "    assert isinstance(fname,str)\n",
    "    assert isinstance(message,str)\n",
    "    \n",
    "    import string, re\n",
    "    import random\n",
    "    message = message.lower()\n",
    "    table = str.maketrans({key: None for key in string.punctuation})\n",
    "    message = message.translate(table) \n",
    "    assert len(re.findall('[%s]'%string.punctuation,message)) == 0\n",
    "    # no uppercase characters\n",
    "    assert len(re.findall('[%s]'%string.ascii_uppercase,message))==0    \n",
    "    wordList = re.sub(\"[^\\w]\", \" \",  message).split()\n",
    "    #print(wordList)    \n",
    "    with open(fname) as f:\n",
    "        lines = f.read().split(\"\\n\")        \n",
    "    #print(\"Number of lines is {}\".format(len(lines)))    \n",
    "    final= []\n",
    "    for i in range(len(wordList)):\n",
    "        word = wordList[i]\n",
    "        #print(word)\n",
    "        choice_option=[]\n",
    "        for i,line in enumerate(lines):\n",
    "            if word in line: # or word in line.split() to search for full words\n",
    "                result = [i+1 for i,w in enumerate(line.split()) if w.lower() == word]\n",
    "                if (result == []):\n",
    "                    pass\n",
    "                else:\n",
    "                    line_number=i+1\n",
    "                    #print(\"Word \\\"{}\\\" found in line {} at the position {}\".format(word, line_number,result))\n",
    "                    #print(line)\n",
    "                    choice_option.append((line_number-1,result[0]-1))\n",
    "        assert (choice_option == [])== False, \"cannot find the match word\"\n",
    "        final.append(random.choice(choice_option)) \n",
    "        assert (allUnique(final))==True,\"Cannot contain same code\"    \n",
    "    return(final)    \n"
   ]
  },
  {
   "cell_type": "code",
   "execution_count": null,
   "metadata": {
    "deletable": false,
    "editable": false,
    "nbgrader": {
     "checksum": "fcd434631a7346e9d69834ecc1e5985e",
     "grade": true,
     "grade_id": "cell-0c56af9510f64d34",
     "locked": true,
     "points": 20,
     "schema_version": 1,
     "solution": false
    }
   },
   "outputs": [],
   "source": []
  },
  {
   "cell_type": "code",
   "execution_count": 2,
   "metadata": {
    "deletable": false,
    "nbgrader": {
     "checksum": "ed4dd369dcf237a47fb0c92c0e57de29",
     "grade": false,
     "grade_id": "cell-55c434bfd34ed1a6",
     "locked": false,
     "schema_version": 1,
     "solution": true
    }
   },
   "outputs": [],
   "source": [
    "def decrypt_message(inlist,fname):\n",
    "    '''\n",
    "    Given `inlist`, which is a list of 2-tuples`fname` which is the\n",
    "    name of a text file source for the codebook, return the encrypted message. \n",
    "    \n",
    "    :param message: inlist to decrypt\n",
    "    :type message: list\n",
    "    :param fname: filename for source text\n",
    "    :type fname: str\n",
    "    :returns: string decrypted message\n",
    "    '''\n",
    "    assert isinstance(fname,str)\n",
    "    assert isinstance(inlist,list)\n",
    "    with open(fname) as f:\n",
    "        lines = f.read().split(\"\\n\") \n",
    "    #print(inlist)   \n",
    "    final=\"\" \n",
    "    for x in inlist:    \n",
    "        for i, line in enumerate(lines):\n",
    "            if(i == x[0]):\n",
    "                #print (line)\n",
    "                for k,word in enumerate(line.split()):\n",
    "                    if(k==x[1]):\n",
    "                        find_word=(word)\n",
    "                        final+=find_word+\" \"\n",
    "    return (final)"
   ]
  },
  {
   "cell_type": "code",
   "execution_count": null,
   "metadata": {
    "deletable": false,
    "editable": false,
    "nbgrader": {
     "checksum": "bc9a6ecbd6020462402c39870cf92fcd",
     "grade": true,
     "grade_id": "cell-a4bd1520dda66844",
     "locked": true,
     "points": 20,
     "schema_version": 1,
     "solution": false
    }
   },
   "outputs": [],
   "source": []
  },
  {
   "cell_type": "code",
   "execution_count": null,
   "metadata": {},
   "outputs": [],
   "source": []
  },
  {
   "cell_type": "code",
   "execution_count": null,
   "metadata": {},
   "outputs": [],
   "source": []
  }
 ],
 "metadata": {
  "kernelspec": {
   "display_name": "Python 3",
   "language": "python",
   "name": "python3"
  },
  "language_info": {
   "codemirror_mode": {
    "name": "ipython",
    "version": 3
   },
   "file_extension": ".py",
   "mimetype": "text/x-python",
   "name": "python",
   "nbconvert_exporter": "python",
   "pygments_lexer": "ipython3",
   "version": "3.6.3"
  }
 },
 "nbformat": 4,
 "nbformat_minor": 2
}
